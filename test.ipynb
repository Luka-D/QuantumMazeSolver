{
 "cells": [
  {
   "cell_type": "code",
   "execution_count": 8,
   "metadata": {},
   "outputs": [],
   "source": [
    "import time\n",
    "import os\n",
    "from queue import Queue\n",
    "from operator import itemgetter\n",
    "import numpy as np\n",
    "import random\n",
    "import matplotlib.pyplot as plt\n",
    "import matplotlib.animation as animation\n",
    "from dotenv import load_dotenv\n",
    "from qiskit import QuantumCircuit, QuantumRegister, ClassicalRegister\n",
    "from qiskit_ibm_runtime import QiskitRuntimeService\n",
    "from qiskit_aer import AerSimulator\n",
    "from qiskit.visualization import plot_histogram\n",
    "from qiskit.transpiler import PassManager\n",
    "from qiskit import transpile\n",
    "\n",
    "load_dotenv()\n",
    "\n",
    "maze = [\n",
    "    [1, 0, 1, 1, 1, 1, 1, 1],\n",
    "    [1, 0, 0, 0, 0, 0, 0, 1],\n",
    "    [1, 1, 0, 1, 1, 0, 1, 1],\n",
    "    [1, 0, 1, 1, 1, 0, 1, 1],\n",
    "    [1, 0, 0, 0, 0, 0, 0, 1],\n",
    "    [1, 1, 1, 1, 0, 1, 1, 1],\n",
    "    [1, 0, 0, 0, 0, 0, 0, 1],\n",
    "    [1, 0, 1, 1, 1, 1, 1, 1],\n",
    "]\n",
    "\n",
    "maze = np.array(maze)"
   ]
  },
  {
   "cell_type": "code",
   "execution_count": 4,
   "metadata": {},
   "outputs": [
    {
     "name": "stdout",
     "output_type": "stream",
     "text": [
      "         \n",
      "q3_0: ─■─\n",
      "       │ \n",
      "q3_1: ─■─\n",
      "         \n",
      "      ┌───┐┌───┐          ┌───┐┌───┐     \n",
      "q3_0: ┤ H ├┤ X ├───────■──┤ X ├┤ H ├─────\n",
      "      ├───┤├───┤┌───┐┌─┴─┐├───┤├───┤┌───┐\n",
      "q3_1: ┤ H ├┤ X ├┤ H ├┤ X ├┤ H ├┤ X ├┤ H ├\n",
      "      └───┘└───┘└───┘└───┘└───┘└───┘└───┘\n",
      "      ┌───┐   \n",
      "q3_0: ┤ H ├─■─\n",
      "      ├───┤ │ \n",
      "q3_1: ┤ H ├─■─\n",
      "      └───┘   \n",
      "c2: 2/════════\n",
      "              \n",
      "      ┌───┐   ┌───┐┌───┐          ┌───┐┌───┐     \n",
      "q3_0: ┤ H ├─■─┤ H ├┤ X ├───────■──┤ X ├┤ H ├─────\n",
      "      ├───┤ │ ├───┤├───┤┌───┐┌─┴─┐├───┤├───┤┌───┐\n",
      "q3_1: ┤ H ├─■─┤ H ├┤ X ├┤ H ├┤ X ├┤ H ├┤ X ├┤ H ├\n",
      "      └───┘   └───┘└───┘└───┘└───┘└───┘└───┘└───┘\n",
      "c2: 2/═══════════════════════════════════════════\n",
      "                                                 \n",
      "      ┌───┐   ┌───┐┌───┐          ┌───┐┌───┐     ┌─┐   \n",
      "q3_0: ┤ H ├─■─┤ H ├┤ X ├───────■──┤ X ├┤ H ├─────┤M├───\n",
      "      ├───┤ │ ├───┤├───┤┌───┐┌─┴─┐├───┤├───┤┌───┐└╥┘┌─┐\n",
      "q3_1: ┤ H ├─■─┤ H ├┤ X ├┤ H ├┤ X ├┤ H ├┤ X ├┤ H ├─╫─┤M├\n",
      "      └───┘   └───┘└───┘└───┘└───┘└───┘└───┘└───┘ ║ └╥┘\n",
      "c2: 2/════════════════════════════════════════════╩══╩═\n",
      "                                                  0  1 \n",
      "{'11': 1024}\n"
     ]
    },
    {
     "data": {
      "image/png": "[encoded data removed]",
      "text/plain": [
       "<Figure size 640x480 with 1 Axes>"
      ]
     },
     "execution_count": 4,
     "metadata": {},
     "output_type": "execute_result"
    }
   ],
   "source": [
    "# Qiskit init\n",
    "# if os.getenv(\"Qiskit_API_Token\"):\n",
    "#     print(\"API Token Successfully Loaded\")\n",
    "# else:\n",
    "#     raise Exception(\n",
    "#         \"Qiskit API Token not found. Please verify it is correctly declared in your .env file.\"\n",
    "#     )\n",
    "\n",
    "# try:\n",
    "#     print(\"Establishing connection...\")\n",
    "#     service = QiskitRuntimeService(\n",
    "#         channel=\"ibm_quantum\",\n",
    "#         token=os.getenv(\"Qiskit_API_Token\"),\n",
    "#     )\n",
    "#     print(\"Connection Established.\")\n",
    "# except Exception as e:\n",
    "#     print(e)\n",
    "# backend = service.backend(name=\"ibm_brisbane\")\n",
    "# print(backend.num_qubits)\n",
    "\n",
    "\n",
    "# Grover's\n",
    "def phase_oracle(circuit, register):\n",
    "    circuit.cz(register[0], register[1])\n",
    "\n",
    "\n",
    "def inversion_about_average(circuit, register):\n",
    "    circuit.h(register)\n",
    "    circuit.x(register)\n",
    "    circuit.h(register[1])\n",
    "    circuit.cx(register[0], register[1])\n",
    "    circuit.h(register[1])\n",
    "    circuit.x(register)\n",
    "    circuit.h(register)\n",
    "\n",
    "\n",
    "qr = QuantumRegister(2)\n",
    "cr = ClassicalRegister(2)\n",
    "oracle = QuantumCircuit(qr)\n",
    "phase_oracle(oracle, qr)\n",
    "print(oracle.draw())\n",
    "qaverage = QuantumCircuit(qr)\n",
    "inversion_about_average(qaverage, qr)\n",
    "print(qaverage.draw())\n",
    "\n",
    "grovercircuit = QuantumCircuit(qr, cr)\n",
    "grovercircuit.h(qr)\n",
    "phase_oracle(grovercircuit, qr)\n",
    "print(grovercircuit.draw())\n",
    "inversion_about_average(grovercircuit, qr)\n",
    "print(grovercircuit.draw())\n",
    "grovercircuit.measure(qr, cr)\n",
    "print(grovercircuit.draw())\n",
    "\n",
    "backend = AerSimulator()\n",
    "job = backend.run(grovercircuit, shots=1024)\n",
    "results = job.result()\n",
    "answer = results.get_counts()\n",
    "print(answer)\n",
    "plot_histogram(answer)"
   ]
  },
  {
   "cell_type": "code",
   "execution_count": 10,
   "metadata": {},
   "outputs": [
    {
     "name": "stderr",
     "output_type": "stream",
     "text": [
      "/var/folders/t_/_kgrzhvx5p11fr3z490n_1zr0000gn/T/ipykernel_59628/2958624691.py:7: DeprecationWarning: backend.run() and related sessions methods are deprecated  as of qiskit-ibm-runtime 0.23 and will be removed no sooner than 6 months after the release date. More details can be found in the primitives migration guide https://docs.quantum.ibm.com/migration-guides/qiskit-runtime.\n",
      "  job = backend.run(new_circuit, shots=1024)\n"
     ]
    }
   ],
   "source": [
    "service = QiskitRuntimeService(\n",
    "    channel=\"ibm_quantum\", token=os.getenv(\"Qiskit_API_Token\")\n",
    ")\n",
    "backend = service.backend(\"ibm_brisbane\")\n",
    "\n",
    "new_circuit = transpile(grovercircuit, backend=backend)\n",
    "job = backend.run(new_circuit, shots=1024)"
   ]
  },
  {
   "cell_type": "code",
   "execution_count": 13,
   "metadata": {},
   "outputs": [
    {
     "name": "stdout",
     "output_type": "stream",
     "text": [
      "{'00': 13, '10': 32, '11': 794, '01': 185}\n"
     ]
    },
    {
     "data": {
      "image/png": "[encoded data removed]",
      "text/plain": [
       "<Figure size 640x480 with 1 Axes>"
      ]
     },
     "execution_count": 13,
     "metadata": {},
     "output_type": "execute_result"
    }
   ],
   "source": [
    "results = job.result()\n",
    "answer = results.get_counts()\n",
    "print(answer)\n",
    "plot_histogram(answer)"
   ]
  }
 ],
 "metadata": {
  "kernelspec": {
   "display_name": ".venv",
   "language": "python",
   "name": "python3"
  },
  "language_info": {
   "codemirror_mode": {
    "name": "ipython",
    "version": 3
   },
   "file_extension": ".py",
   "mimetype": "text/x-python",
   "name": "python",
   "nbconvert_exporter": "python",
   "pygments_lexer": "ipython3",
   "version": "3.12.2"
  }
 },
 "nbformat": 4,
 "nbformat_minor": 2
}
